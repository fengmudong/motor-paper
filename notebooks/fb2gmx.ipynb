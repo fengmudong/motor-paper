{
 "cells": [
  {
   "cell_type": "markdown",
   "metadata": {},
   "source": [
    "This notebook prepares Gromacs simulation files using parameters from FB Buckingham optimization, and information ported from my Amber calculations."
   ]
  },
  {
   "cell_type": "code",
   "execution_count": 24,
   "metadata": {},
   "outputs": [
    {
     "name": "stdout",
     "output_type": "stream",
     "text": [
      "/home/winter/onsager/gromacs\n"
     ]
    }
   ],
   "source": [
    "import parmed as pmd\n",
    "\n",
    "%cd /home/winter/onsager/gromacs/\n",
    "for i in range(1,21):\n",
    "    parm = pmd.load_file('/home/winter/onsager/amber/Occboxtwo'+str(i)+'.prmtop',\n",
    "                         '/home/winter/onsager/amber/Occboxtwo'+str(i)+'.inpcrd')\n",
    "    parm.save('meta'+str(i)+'.top', format='gromacs')\n",
    "    parm.save('meta'+str(i)+'.gro')"
   ]
  },
  {
   "cell_type": "markdown",
   "metadata": {},
   "source": [
    "Then, change the last line of `.gro` to increase box size from 4 to 4.1nm, otherwise minimization may give infinitely large gradient and very negative energy which I guess is due to Buckingham potential of two too-close solvent molecules across periodic boundary."
   ]
  },
  {
   "cell_type": "code",
   "execution_count": 25,
   "metadata": {},
   "outputs": [],
   "source": [
    "for i in range(1,21):\n",
    "    !head -n -1 meta{i}.gro > temp\n",
    "    !mv temp meta{i}.gro\n",
    "    !echo \"   4.10000   4.10000   4.10000\" >> meta{i}.gro"
   ]
  },
  {
   "cell_type": "markdown",
   "metadata": {},
   "source": [
    "Write the vdw parameters below to file `template.top`. All the lines except h2 line and cl line are from FB optimized `/home/winter/onsager/fb/fbO_allboxbuckB4smallerprior/input.tmp/scan_dihrot/iter_0012/fbO.itp`.\n",
    "h2 line parameters are copied from hc line; cl line parameters are taken from Mayo paper table 2 without optimization.\n",
    "\n",
    "```\n",
    "[ defaults ]\n",
    "; nbfunc comb-rule gen-pairs fudgeLJ fudgeQQ\n",
    "2 1 no 0.5 0.83333333\n",
    "\n",
    "[ atomtypes ]\n",
    "; name    at.num    mass    charge ptype  a b c\n",
    "ca             6  12.010000  0.00000000  A  369726  3.727249595168e+01  0.00244 ; PRM 6\n",
    "os             8  16.000000  0.00000000  A  230235  39.6  0.00112\n",
    "cc             6  12.010000  0.00000000  A  369726  3.788429621306e+01  0.00244 ; PRM 6\n",
    "cf             6  12.010000  0.00000000  A  369726  3.766812016843e+01  0.00244 ; PRM 6\n",
    "c3             6  12.010000  0.00000000  A  369726  3.803089983960e+01  0.00244 ; PRM 6\n",
    "ha             1   1.008000  0.00000000  A  14258  4.112242025638e+01  0.000131 ; PRM 6\n",
    "hc             1   1.008000  0.00000000  A  14258  4.064461709439e+01  0.000131 ; PRM 6\n",
    "h2             1   1.008000  0.00000000  A  14258  4.064461709439e+01  0.000131\n",
    "cl            17  35.450000  0.00000000  A  946820 35.09 0.00794\n",
    "```\n",
    "\n",
    "Next, assemble a .top file using \n",
    "1. Sections from the .top created above \n",
    "2. Sections from FB optimized .itp file\n",
    "3. Text stored in file `templatelastlines.top`"
   ]
  },
  {
   "cell_type": "code",
   "execution_count": 26,
   "metadata": {},
   "outputs": [],
   "source": [
    "for i in range(1,21):\n",
    "    !cp template.top temp\n",
    "    !head -n 62 meta{i}.top | tail -n 30 >> temp\n",
    "    !tail -n +15 /home/winter/onsager/fb/fbO_allboxbuckB4smallerprior/input.tmp/scan_dihrot/iter_0012/fbO.itp >> temp\n",
    "    !cat templatelastlines.top >> temp\n",
    "    !mv temp B4smaller{i}.top"
   ]
  },
  {
   "cell_type": "markdown",
   "metadata": {},
   "source": [
    "Now switch to TSCC cuz Gromacs installed there.\n",
    "The job submission scripts: (the protocols are analogous to my Amber scripts of the same name)\n",
    "`gromacs/min.sh` `gromacs/resheat.sh` `gromacs/reseq.sh` `gromacs/prod.sh` `gromacs/prodvulcan.sh`\n",
    "Note: prod.sh doesn't use GPU for production phase, cuz Gromacs GPU requires Verlet, while Verlet doesn't support Buckingham.\n",
    "\n",
    "A non-zero charge warning may abort minimization. In such case, manually correct the charge rounding by editing the FB optimized .itp, and go back to rerun the last cell.\n",
    "\n",
    "In order to do restrained heating and equilibration, I created a positional restraint file `posre.itp` by `gmx genrestr -f test.gro` and following prompt. This restrain file should work for any FF parameters and any initial structures because the only information contained in it are atom numbering and restraint strength.\n",
    "\n",
    "Successfulness of equilibration can be checked with \n",
    "`gmx energy -f B4smaller_reseq11.edr -o density.xvg` and following prompt."
   ]
  },
  {
   "cell_type": "code",
   "execution_count": 27,
   "metadata": {},
   "outputs": [],
   "source": []
  }
 ],
 "metadata": {
  "kernelspec": {
   "display_name": "Python [conda env:plotly] *",
   "language": "python",
   "name": "conda-env-plotly-py"
  },
  "language_info": {
   "codemirror_mode": {
    "name": "ipython",
    "version": 3
   },
   "file_extension": ".py",
   "mimetype": "text/x-python",
   "name": "python",
   "nbconvert_exporter": "python",
   "pygments_lexer": "ipython3",
   "version": "3.6.7"
  },
  "toc": {
   "base_numbering": 1,
   "nav_menu": {},
   "number_sections": true,
   "sideBar": true,
   "skip_h1_title": false,
   "title_cell": "Table of Contents",
   "title_sidebar": "Contents",
   "toc_cell": false,
   "toc_position": {},
   "toc_section_display": true,
   "toc_window_display": false
  }
 },
 "nbformat": 4,
 "nbformat_minor": 2
}
