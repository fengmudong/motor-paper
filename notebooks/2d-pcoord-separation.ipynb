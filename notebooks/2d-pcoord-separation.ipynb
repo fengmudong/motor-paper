{
 "cells": [
  {
   "cell_type": "markdown",
   "metadata": {},
   "source": [
    "# To get the time series file plotted in this notebook, run `2dpcoord.sh`"
   ]
  },
  {
   "cell_type": "code",
   "execution_count": 9,
   "metadata": {},
   "outputs": [
    {
     "name": "stdout",
     "output_type": "stream",
     "text": [
      "amber/Snolog10\n"
     ]
    },
    {
     "data": {
      "image/png": "[encoded data removed]",
      "text/plain": [
       "<Figure size 259.2x216 with 1 Axes>"
      ]
     },
     "metadata": {
      "needs_background": "light"
     },
     "output_type": "display_data"
    }
   ],
   "source": [
    "%matplotlib inline\n",
    "import numpy as np\n",
    "import matplotlib.pyplot as plt\n",
    "\n",
    "def xy_plot(name):\n",
    "    x = np.genfromtxt(\"/home/winter/onsager/\"+name+\".pcoord1\", skip_header=1, skip_footer=0, usecols=1)\n",
    "    y = np.genfromtxt(\"/home/winter/onsager/\"+name+\".pcoord2\", skip_header=1, skip_footer=0, usecols=1)\n",
    "#     x=x[643000:644000]\n",
    "#     y=y[643000:644000]\n",
    "    plt.figure(figsize=(3.6,3))\n",
    "    plt.plot(x,y)\n",
    "    plt.xlabel('dihedral 17-18-2-1 ')\n",
    "    plt.ylabel('stator pucker')\n",
    "    #plt.xlim(0,2.5)\n",
    "    #plt.ylim(-50,50)\n",
    "    #plt.grid(True,axis='y')\n",
    "    plt.savefig('/home/winter/onsager/Sseparation.png', dpi=3600, bbox_inches = 'tight')\n",
    "    plt.show()\n",
    "    \n",
    "def xyt_plot(name):\n",
    "    x = np.genfromtxt(\"/home/winter/onsager/\"+name+\".pcoord1\", skip_header=1, skip_footer=0, usecols=1)\n",
    "    y = np.genfromtxt(\"/home/winter/onsager/\"+name+\".pcoord2\", skip_header=1, skip_footer=0, usecols=1)\n",
    "#     x=x[643000:644000]\n",
    "#     y=y[643000:644000]\n",
    "    plt.rcParams['agg.path.chunksize'] = 10000\n",
    "    plt.figure(figsize=(100,5))\n",
    "    plt.xlabel('frame')\n",
    "    plt.ylabel('dihedral/pucker')\n",
    "    plt.grid(True,axis='y')\n",
    "    plt.plot(x)\n",
    "    plt.plot(y)\n",
    "    plt.legend(['dihedral 17-18-2-1', 'stator pucker'], loc='upper left')\n",
    "    plt.show()    \n",
    "\n",
    "for i in np.arange(10,11):\n",
    "#for i in np.arange(1,14):\n",
    "#for i in np.arange(1,6):\n",
    "    name = \"amber/Snolog\"+str(i)\n",
    "    print(name)\n",
    "    xy_plot(name)\n",
    "    #xyt_plot(name)"
   ]
  }
 ],
 "metadata": {
  "kernelspec": {
   "display_name": "Python 3",
   "language": "python",
   "name": "python3"
  },
  "language_info": {
   "codemirror_mode": {
    "name": "ipython",
    "version": 3
   },
   "file_extension": ".py",
   "mimetype": "text/x-python",
   "name": "python",
   "nbconvert_exporter": "python",
   "pygments_lexer": "ipython3",
   "version": "3.6.7"
  },
  "toc": {
   "base_numbering": 1,
   "nav_menu": {},
   "number_sections": true,
   "sideBar": true,
   "skip_h1_title": false,
   "title_cell": "Table of Contents",
   "title_sidebar": "Contents",
   "toc_cell": false,
   "toc_position": {},
   "toc_section_display": true,
   "toc_window_display": false
  }
 },
 "nbformat": 4,
 "nbformat_minor": 2
}
