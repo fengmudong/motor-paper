{
 "cells": [
  {
   "cell_type": "markdown",
   "metadata": {},
   "source": [
    "# Visualization of QM scan energies (from Torsiondrive) as energy countour, compared to MM energies (from Forcebalance) at the same structures."
   ]
  },
  {
   "cell_type": "code",
   "execution_count": 73,
   "metadata": {},
   "outputs": [],
   "source": [
    "#### User input\n",
    "\n",
    "# scan = \"S_dihrot\"\n",
    "# txtafter = \"/home/winter/onsager/fb/fbS_nolog/input.tmp/scan_dihrot/iter_0028/EnergyCompare.txt\"\n",
    "# txtbefore = \"/home/winter/onsager/fb/fbS_nolog/input.tmp/scan_dihrot/iter_0000/EnergyCompare.txt\"\n",
    "\n",
    "# scan = \"S\"\n",
    "# txtafter = \"/home/winter/onsager/fb/fbS_nolog/input.tmp/scan_dihpyr/iter_0028/EnergyCompare.txt\"\n",
    "# txtbefore = \"/home/winter/onsager/fb/fbS_nolog/input.tmp/scan_dihpyr/iter_0000/EnergyCompare.txt\"\n",
    "\n",
    "# scan = \"N_dihrot\"\n",
    "# txtafter = \"/home/winter/onsager/fb/fbN_nolog/input.tmp/scan_dihrot/iter_0059/EnergyCompare.txt\"\n",
    "# txtbefore = \"/home/winter/onsager/fb/fbN_nolog/input.tmp/scan_dihrot/iter_0000/EnergyCompare.txt\"\n",
    "\n",
    "# scan = \"N\"\n",
    "# txtafter = \"/home/winter/onsager/fb/fbN_nolog/input.tmp/scan_dihpyr/iter_0059/EnergyCompare.txt\"\n",
    "# txtbefore = \"/home/winter/onsager/fb/fbN_nolog/input.tmp/scan_dihpyr/iter_0000/EnergyCompare.txt\"\n",
    "\n",
    "scan = \"O_dihrot\"\n",
    "txtafter = \"/home/winter/onsager/fb/fbO_2scans/input.tmp/scan_dihrot/iter_0029/EnergyCompare.txt\"\n",
    "txtbefore = \"/home/winter/onsager/fb/fbO_2scans/input.tmp/scan_dihrot/iter_0000/EnergyCompare.txt\"\n",
    "\n",
    "# scan = \"O_dihrot\"\n",
    "# txtafter = \"/home/winter/onsager/fb/fbO_allboxbuckpaper/input.tmp/scan_dihrot/iter_0024/EnergyCompare.txt\"\n",
    "# txtbefore = \"/home/winter/onsager/fb/fbO_allboxbuckpaper/input.tmp/scan_dihrot/iter_0000/EnergyCompare.txt\"\n",
    "\n",
    "# scan = \"O\"\n",
    "# txtafter = \"/home/winter/onsager/fb/fbO_2scans/input.tmp/scan_dihpyr/iter_0029/EnergyCompare.txt\"\n",
    "# txtbefore = \"/home/winter/onsager/fb/fbO_2scans/input.tmp/scan_dihpyr/iter_0000/EnergyCompare.txt\"\n",
    "\n",
    "# scan = \"O\"\n",
    "# txtafter = \"/home/winter/onsager/fb/fbO_allboxbuckpaper/input.tmp/scan_dihpyr/iter_0024/EnergyCompare.txt\"\n",
    "# txtbefore = \"/home/winter/onsager/fb/fbO_allboxbuckpaper/input.tmp/scan_dihpyr/iter_0000/EnergyCompare.txt\"\n",
    "\n",
    "scanxyz = \"/home/winter/onsager/tsqm/td/\"+scan+\"/scan.xyz\"\n",
    "scanpdb = \"/home/winter/onsager/tsqm/td/\"+scan+\"/scan.pdb\"\n",
    "import numpy as np\n",
    "import nglview as nv\n",
    "from IPython.display import display\n",
    "import plotly.graph_objs as go\n",
    "import plotly"
   ]
  },
  {
   "cell_type": "markdown",
   "metadata": {},
   "source": [
    "# Plot QM energies"
   ]
  },
  {
   "cell_type": "code",
   "execution_count": 74,
   "metadata": {},
   "outputs": [
    {
     "data": {
      "application/vnd.jupyter.widget-view+json": {
       "model_id": "fe6f174fdfcd44b8bb1131847c8ed25d",
       "version_major": 2,
       "version_minor": 0
      },
      "text/plain": [
       "FigureWidget({\n",
       "    'data': [{'colorbar': {'nticks': 8, 'title': {'text': 'Energy (kcal/mol)'}},\n",
       "              …"
      ]
     },
     "metadata": {},
     "output_type": "display_data"
    }
   ],
   "source": [
    "# Parse dihedrals and energies. From Yudong's script.\n",
    "with open(scanxyz) as f:\n",
    "    lines = f.readlines()\n",
    "global n_atoms \n",
    "n_atoms = int(lines[0])\n",
    "comment_lines = lines[1::n_atoms+2]\n",
    "grid_data = dict()\n",
    "for line in comment_lines:\n",
    "    ls = line.strip().split()\n",
    "    assert ls[0] == 'Dihedral' and ls[-2] == 'Energy', line\n",
    "    grid_energy = float(ls[-1])\n",
    "    grid_coord = []\n",
    "    for i in range(1, len(ls) - 2):\n",
    "        c = int(ls[i].replace('(', '').replace(',','').replace(')',''))\n",
    "        grid_coord.append(c)\n",
    "    grid_data[tuple(grid_coord)] = grid_energy\n",
    "\n",
    "# auto determination of No. of scan points (xpts, ypts), minimum values (xmin, ymin) and step size (xstep,ystep)\n",
    "i = 0\n",
    "while lines[1+i*(n_atoms+2)].strip().split()[1] == lines[1+(i+1)*(n_atoms+2)].strip().split()[1] != 0:\n",
    "    i=i+1\n",
    "global xpts, ypts, xmin, ymin, xstep, ystep\n",
    "ypts = i+1\n",
    "xpts = len(grid_data) // ypts\n",
    "xmin = float(lines[1].strip().split()[1][1:-1])\n",
    "ymin = float(lines[1].strip().split()[2][0:-1])\n",
    "xstep = float(lines[1+ypts*(n_atoms+2)].strip().split()[1][1:-1]) - float(lines[1].strip().split()[1][1:-1])\n",
    "ystep = float(lines[1+(n_atoms+2)].strip().split()[2][0:-1]) - float(lines[1].strip().split()[2][0:-1])\n",
    "\n",
    "x = np.linspace(xmin,xmin+xstep*(xpts-1),num=xpts)\n",
    "y = np.linspace(ymin,ymin+ystep*(ypts-1),num=ypts)\n",
    "rawe = np.reshape(np.fromiter(grid_data.values(), dtype=float),(xpts,ypts)).T\n",
    "# convering rawe in hartree to e in kcal/mol with lowest value offset to zero.\n",
    "e = rawe*627.509-np.min(rawe*627.509)\n",
    "\n",
    "def myplot(energy):\n",
    "    fig = go.FigureWidget([go.Contour(x=x, y=y, z=energy, \n",
    "                            colorscale='YlGnBu', contours=dict(start=0,end=18,size=1.5),\n",
    "                            colorbar=dict(nticks=8,title='Energy (kcal/mol)')\n",
    "                           )],\n",
    "                      go.Layout(xaxis=dict(title='central torsion'),yaxis=dict(title='rotor pucker'),width=500,height=300,\n",
    "                               paper_bgcolor='rgba(0,0,0,0)',plot_bgcolor='rgba(0,0,0,0)'))\n",
    "    return fig\n",
    "\n",
    "fig = myplot(e) ; fig"
   ]
  },
  {
   "cell_type": "code",
   "execution_count": 75,
   "metadata": {},
   "outputs": [
    {
     "data": {
      "application/vnd.jupyter.widget-view+json": {
       "model_id": "c20e83a4e6ae41508bd3479ba7e7a383",
       "version_major": 2,
       "version_minor": 0
      },
      "text/plain": [
       "FigureWidget({\n",
       "    'data': [{'colorbar': {'nticks': 8, 'title': {'text': 'Energy (kcal/mol)'}},\n",
       "              …"
      ]
     },
     "metadata": {},
     "output_type": "display_data"
    }
   ],
   "source": [
    "rawmme = np.genfromtxt(txtafter, skip_header=1, skip_footer=0, usecols=1)\n",
    "mme = 0.239*np.reshape(rawmme-np.min(rawmme),(xpts,ypts)).T   # zero offset and convert kj/mol to kcal/mol energies\n",
    "\n",
    "fig = myplot(mme) ; fig"
   ]
  },
  {
   "cell_type": "code",
   "execution_count": 76,
   "metadata": {},
   "outputs": [
    {
     "data": {
      "application/vnd.jupyter.widget-view+json": {
       "model_id": "2518a6ccedad48988d2daf9dc2d68db5",
       "version_major": 2,
       "version_minor": 0
      },
      "text/plain": [
       "FigureWidget({\n",
       "    'data': [{'colorbar': {'nticks': 8, 'title': {'text': 'Energy (kcal/mol)'}},\n",
       "              …"
      ]
     },
     "metadata": {},
     "output_type": "display_data"
    }
   ],
   "source": [
    "rawmme = np.genfromtxt(txtbefore, skip_header=1, skip_footer=0, usecols=1)\n",
    "mme = 0.239*np.reshape(rawmme-np.min(rawmme),(xpts,ypts)).T   # zero offset and convert kj/mol to kcal/mol energies\n",
    "\n",
    "fig = myplot(mme) ; fig"
   ]
  }
 ],
 "metadata": {
  "kernelspec": {
   "display_name": "Python 3",
   "language": "python",
   "name": "python3"
  },
  "language_info": {
   "codemirror_mode": {
    "name": "ipython",
    "version": 3
   },
   "file_extension": ".py",
   "mimetype": "text/x-python",
   "name": "python",
   "nbconvert_exporter": "python",
   "pygments_lexer": "ipython3",
   "version": "3.6.7"
  },
  "toc": {
   "base_numbering": 1,
   "nav_menu": {},
   "number_sections": true,
   "sideBar": true,
   "skip_h1_title": false,
   "title_cell": "Table of Contents",
   "title_sidebar": "Contents",
   "toc_cell": false,
   "toc_position": {},
   "toc_section_display": true,
   "toc_window_display": false
  }
 },
 "nbformat": 4,
 "nbformat_minor": 2
}
