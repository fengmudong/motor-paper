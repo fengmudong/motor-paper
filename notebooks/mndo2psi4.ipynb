{
 "cells": [
  {
   "cell_type": "markdown",
   "metadata": {},
   "source": [
    "# There are two alternatives. 1. Parse final structures from MNDO trajectories to a Psi4 input file and run Psi4. After optimizing them I can use them as Torsiondrive initial structures. 2. just send un-optimized final structures to Torsiondrive as initial structures.\n",
    "## 1 requires about 20 hours of running Psi4 and not necessarily the better way. So  I put the code of doing 1 at the end of notebook. The following is alternative 2."
   ]
  },
  {
   "cell_type": "markdown",
   "metadata": {},
   "source": [
    "It is helpful to generate more conformations by flipping the stator atoms. The trick is that I used consistent atom numbering at the very beginning of building the molecules. Current implementation works only for symmetric stator."
   ]
  },
  {
   "cell_type": "code",
   "execution_count": 2,
   "metadata": {},
   "outputs": [
    {
     "name": "stdout",
     "output_type": "stream",
     "text": [
      "/home/winter/onsager/tsqm/dynamics/Ssampling/hop\n",
      "/home/winter/onsager/tsqm/dynamics/Ssampling/hop/run0007\n",
      "/home/winter/onsager/tsqm/dynamics/Ssampling/hop\n",
      "/home/winter/onsager/tsqm/dynamics/Ssampling/hop/run0011\n",
      "/home/winter/onsager/tsqm/dynamics/Ssampling/hop\n",
      "/home/winter/onsager/tsqm/dynamics/Ssampling/hop/run0019\n",
      "/home/winter/onsager/tsqm/dynamics/Ssampling/hop\n",
      "/home/winter/onsager/tsqm/dynamics/Ssampling/hop/run0029\n",
      "/home/winter/onsager/tsqm/dynamics/Ssampling/hop\n",
      "/home/winter/onsager/tsqm/dynamics/Ssampling/hop/run0031_bk\n",
      "/home/winter/onsager/tsqm/dynamics/Ssampling/hop\n",
      "/home/winter/onsager/tsqm/dynamics/Ssampling/hop/run0034_bk\n",
      "/home/winter/onsager/tsqm/dynamics/Ssampling/hop\n",
      "/home/winter/onsager/tsqm/dynamics/Ssampling/hop/run0044_bk\n",
      "/home/winter/onsager/tsqm/dynamics/Ssampling/hop\n",
      "/home/winter/onsager/tsqm/dynamics/Ssampling/hop/run0050\n",
      "/home/winter/onsager/tsqm/dynamics/Ssampling/hop\n"
     ]
    }
   ],
   "source": [
    "\n",
    "\n",
    "def final_frame_to_xyz_with_flip(natoms, path):\n",
    "    %cd {path}\n",
    "    %cd ..\n",
    "    traj = path + \"traj.out\"\n",
    "    finals = open(\"finalstructureswithflip.xyz\", \"a\")\n",
    "    nlines = natoms+2\n",
    "    coords = !tail -{nlines} {traj}\n",
    "    finals.write(coords.nlstr)\n",
    "    finals.write(\"\\n\")\n",
    "\n",
    "    for i in range(0,2): # The first two are header lines\n",
    "        finals.write(coords[i])\n",
    "        finals.write(\"\\n\")\n",
    "    coords_noheader = coords[2:]\n",
    "    for i in range(0,13): # Flip these stator heavy atoms that are symmetric around atom no. 7\n",
    "        finals.write(coords_noheader[12-i])\n",
    "        finals.write(\"\\n\")\n",
    "    for i in range(13,28):\n",
    "        finals.write(coords_noheader[i])\n",
    "        finals.write(\"\\n\")\n",
    "    for i in range(28,36): # Flip these stator hydrogen atoms that are symmetric around atom no. 32 and 33.\n",
    "        finals.write(coords_noheader[63-i])\n",
    "        finals.write(\"\\n\")\n",
    "    for i in range(36,natoms):\n",
    "        finals.write(coords_noheader[i])\n",
    "        finals.write(\"\\n\")\n",
    "    finals.close()\n",
    "    return\n",
    "\n",
    "def add_literature_structure(natoms, path, xyzfile):\n",
    "    %cd {path}\n",
    "    finals = open(\"finalstructureswithflip.xyz\", \"a\")\n",
    "    coords = !cat {xyzfile}\n",
    "    finals.write(coords.nlstr)\n",
    "    finals.write(\"\\n\")\n",
    "\n",
    "    for i in range(0,2): # The first two are header lines\n",
    "        finals.write(coords[i])\n",
    "        finals.write(\"\\n\")\n",
    "    coords_noheader = coords[2:]\n",
    "    for i in range(0,13): # Flip these stator heavy atoms that are symmetric around atom no. 7\n",
    "        finals.write(coords_noheader[12-i])\n",
    "        finals.write(\"\\n\")\n",
    "    for i in range(13,28):\n",
    "        finals.write(coords_noheader[i])\n",
    "        finals.write(\"\\n\")\n",
    "    for i in range(28,36): # Flip these stator hydrogen atoms that are symmetric around atom no. 32 and 33.\n",
    "        finals.write(coords_noheader[63-i])\n",
    "        finals.write(\"\\n\")\n",
    "    for i in range(36,natoms):\n",
    "        finals.write(coords_noheader[i])\n",
    "        finals.write(\"\\n\")\n",
    "    finals.close()\n",
    "    return   \n",
    "\n",
    "add_literature_structure(48,\"/home/winter/onsager/tsqm/dynamics/Ssampling/hop/\",\"/home/winter/onsager/tsqm/Sm.xyz\")\n",
    "final_frame_to_xyz_with_flip(48,\"/home/winter/onsager/tsqm/dynamics/Ssampling/hop/run0007/\")\n",
    "final_frame_to_xyz_with_flip(48,\"/home/winter/onsager/tsqm/dynamics/Ssampling/hop/run0011/\")\n",
    "final_frame_to_xyz_with_flip(48,\"/home/winter/onsager/tsqm/dynamics/Ssampling/hop/run0019/\")\n",
    "final_frame_to_xyz_with_flip(48,\"/home/winter/onsager/tsqm/dynamics/Ssampling/hop/run0029/\")\n",
    "final_frame_to_xyz_with_flip(48,\"/home/winter/onsager/tsqm/dynamics/Ssampling/hop/run0031_bk/\")\n",
    "final_frame_to_xyz_with_flip(48,\"/home/winter/onsager/tsqm/dynamics/Ssampling/hop/run0034_bk/\")\n",
    "final_frame_to_xyz_with_flip(48,\"/home/winter/onsager/tsqm/dynamics/Ssampling/hop/run0044_bk/\")\n",
    "final_frame_to_xyz_with_flip(48,\"/home/winter/onsager/tsqm/dynamics/Ssampling/hop/run0050/\")"
   ]
  },
  {
   "cell_type": "markdown",
   "metadata": {},
   "source": [
    "# Below is alternative 1, which I haven't tested thoroughly"
   ]
  },
  {
   "cell_type": "markdown",
   "metadata": {},
   "source": [
    "## `conda activate p4env` is needed for making the notebook run in psi4 environment."
   ]
  },
  {
   "cell_type": "code",
   "execution_count": 8,
   "metadata": {},
   "outputs": [
    {
     "name": "stdout",
     "output_type": "stream",
     "text": [
      "/home/winter/onsager/tsqm/dynamics/Osampling/hop/run0017\n",
      "Optimizer: Optimization complete!\n"
     ]
    }
   ],
   "source": [
    "def final_frame_to_psi4(natoms, path):\n",
    "    traj = path + \"traj.out\"\n",
    "    psi4input = open(path+\"final.in\", \"a\")\n",
    "    psi4input.write(\"#! DFT optimization\\nmemory 30 GB\\nmolecule {\\n\")\n",
    "    coords = !tail -{natoms} {traj}\n",
    "    psi4input.write(coords.nlstr)\n",
    "    psi4input.write(\"}\\nset {\\nbasis dzvp\\nscf_type df\\nreference uks\\n}\\noptimize('b3lyp-D3BJ')\")\n",
    "    psi4input.close()\n",
    "    %cd {path}\n",
    "    !psi4 -i final.in -o psi4.out -n 12 \n",
    "    return\n",
    "\n",
    "\n",
    "final_frame_to_psi4(48,\"/home/winter/onsager/tsqm/dynamics/Osampling/hop/run0017/\")"
   ]
  },
  {
   "cell_type": "markdown",
   "metadata": {},
   "source": [
    "# Concatenate the output coords from finished Psi4 optimizations into a .xyz for Torsiondrive use."
   ]
  },
  {
   "cell_type": "code",
   "execution_count": 7,
   "metadata": {},
   "outputs": [
    {
     "name": "stdout",
     "output_type": "stream",
     "text": [
      "/home/winter/onsager/tsqm/dynamics/Osampling/hop/run0017\n"
     ]
    }
   ],
   "source": []
  }
 ],
 "metadata": {
  "kernelspec": {
   "display_name": "Python 3",
   "language": "python",
   "name": "python3"
  },
  "language_info": {
   "codemirror_mode": {
    "name": "ipython",
    "version": 3
   },
   "file_extension": ".py",
   "mimetype": "text/x-python",
   "name": "python",
   "nbconvert_exporter": "python",
   "pygments_lexer": "ipython3",
   "version": "3.6.7"
  },
  "toc": {
   "base_numbering": 1,
   "nav_menu": {},
   "number_sections": true,
   "sideBar": true,
   "skip_h1_title": false,
   "title_cell": "Table of Contents",
   "title_sidebar": "Contents",
   "toc_cell": false,
   "toc_position": {},
   "toc_section_display": true,
   "toc_window_display": false
  }
 },
 "nbformat": 4,
 "nbformat_minor": 2
}
